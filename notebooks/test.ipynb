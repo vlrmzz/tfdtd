{
 "cells": [
  {
   "cell_type": "code",
   "execution_count": 2,
   "metadata": {},
   "outputs": [
    {
     "ename": "ValueError",
     "evalue": "operands could not be broadcast together with shapes (99,100) (99,99) ",
     "output_type": "error",
     "traceback": [
      "\u001b[1;31m---------------------------------------------------------------------------\u001b[0m",
      "\u001b[1;31mValueError\u001b[0m                                Traceback (most recent call last)",
      "Cell \u001b[1;32mIn[2], line 25\u001b[0m\n\u001b[0;32m     22\u001b[0m \u001b[39m# Time-stepping loop\u001b[39;00m\n\u001b[0;32m     23\u001b[0m \u001b[39mfor\u001b[39;00m t \u001b[39min\u001b[39;00m \u001b[39mrange\u001b[39m(\u001b[39m1000\u001b[39m):\n\u001b[0;32m     24\u001b[0m     \u001b[39m# Update H_x\u001b[39;00m\n\u001b[1;32m---> 25\u001b[0m     H_x[:\u001b[39m-\u001b[39m\u001b[39m1\u001b[39m, :] \u001b[39m-\u001b[39m\u001b[39m=\u001b[39m (dt \u001b[39m/\u001b[39;49m (mu0 \u001b[39m*\u001b[39;49m mu_r[:\u001b[39m-\u001b[39;49m\u001b[39m1\u001b[39;49m, :] \u001b[39m*\u001b[39;49m dy)) \u001b[39m*\u001b[39;49m (E_z[:\u001b[39m-\u001b[39;49m\u001b[39m1\u001b[39;49m, \u001b[39m1\u001b[39;49m:] \u001b[39m-\u001b[39;49m E_z[:\u001b[39m-\u001b[39;49m\u001b[39m1\u001b[39;49m, :\u001b[39m-\u001b[39;49m\u001b[39m1\u001b[39;49m])\n\u001b[0;32m     27\u001b[0m     \u001b[39m# Update H_y\u001b[39;00m\n\u001b[0;32m     28\u001b[0m     H_y[:, :\u001b[39m-\u001b[39m\u001b[39m1\u001b[39m] \u001b[39m+\u001b[39m\u001b[39m=\u001b[39m (dt \u001b[39m/\u001b[39m (mu0 \u001b[39m*\u001b[39m mu_r[:, :\u001b[39m-\u001b[39m\u001b[39m1\u001b[39m] \u001b[39m*\u001b[39m dx)) \u001b[39m*\u001b[39m (E_z[\u001b[39m1\u001b[39m:, :\u001b[39m-\u001b[39m\u001b[39m1\u001b[39m] \u001b[39m-\u001b[39m E_z[:\u001b[39m-\u001b[39m\u001b[39m1\u001b[39m, :\u001b[39m-\u001b[39m\u001b[39m1\u001b[39m])\n",
      "\u001b[1;31mValueError\u001b[0m: operands could not be broadcast together with shapes (99,100) (99,99) "
     ]
    }
   ],
   "source": [
    "import numpy as np\n",
    "\n",
    "# Constants\n",
    "eps0 = 8.854e-12  # Permittivity of free space\n",
    "mu0 = 4 * np.pi * 1e-7  # Permeability of free space\n",
    "c = 1 / np.sqrt(mu0 * eps0)  # Speed of light in vacuum\n",
    "\n",
    "# Simulation parameters\n",
    "nx, ny = 100, 100  # Grid dimensions\n",
    "dt = 1e-11  # Time step\n",
    "dx = dy = 1e-3  # Grid spacing\n",
    "\n",
    "# Initializing fields\n",
    "H_x = np.zeros((nx, ny))\n",
    "H_y = np.zeros((nx, ny))\n",
    "E_z = np.zeros((nx, ny))\n",
    "\n",
    "# Material parameters\n",
    "eps_r = np.ones((nx, ny))  # Relative permittivity\n",
    "mu_r = np.ones((nx, ny))  # Relative permeability\n",
    "\n",
    "# Time-stepping loop\n",
    "for t in range(1000):\n",
    "    # Update H_x\n",
    "    H_x[:-1, :] -= (dt / (mu0 * mu_r[:-1, :] * dy)) * (E_z[:-1, 1:] - E_z[:-1, :-1])\n",
    "\n",
    "    # Update H_y\n",
    "    H_y[:, :-1] += (dt / (mu0 * mu_r[:, :-1] * dx)) * (E_z[1:, :-1] - E_z[:-1, :-1])\n",
    "\n",
    "    # Update E_z\n",
    "    E_z[1:, 1:] += (dt / (eps0 * eps_r[1:, 1:] * dx)) * (H_y[1:, :-1] - H_y[1:, 1:]) - (dt / (eps0 * eps_r[1:, 1:] * dy)) * (H_x[:-1, 1:] - H_x[1:, 1:])\n",
    "\n",
    "    # Insert source, boundary conditions, or other necessary modifications here\n"
   ]
  }
 ],
 "metadata": {
  "kernelspec": {
   "display_name": "fdtd",
   "language": "python",
   "name": "python3"
  },
  "language_info": {
   "codemirror_mode": {
    "name": "ipython",
    "version": 3
   },
   "file_extension": ".py",
   "mimetype": "text/x-python",
   "name": "python",
   "nbconvert_exporter": "python",
   "pygments_lexer": "ipython3",
   "version": "3.8.16"
  },
  "orig_nbformat": 4
 },
 "nbformat": 4,
 "nbformat_minor": 2
}
