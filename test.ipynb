{
 "cells": [
  {
   "attachments": {},
   "cell_type": "markdown",
   "metadata": {},
   "source": [
    "Import simulator and utilities"
   ]
  },
  {
   "cell_type": "code",
   "execution_count": 1,
   "metadata": {},
   "outputs": [],
   "source": [
    "from src.base import FDTD2D\n",
    "from src.utilities import print_setup_info\n",
    "from src.detectors import PointDetector\n",
    "from src.sources import PointSource, LineSource\n",
    "\n",
    "from src.viz import viz2D"
   ]
  },
  {
   "attachments": {},
   "cell_type": "markdown",
   "metadata": {},
   "source": [
    "### Setting the simulation parameters from a dictionary"
   ]
  },
  {
   "cell_type": "code",
   "execution_count": 8,
   "metadata": {},
   "outputs": [],
   "source": [
    "# Parameters\n",
    "params = {\n",
    "    'nx': 200,\n",
    "    'ny': 200,\n",
    "    'time_steps': 250,\n",
    "    'dx':25e-9,\n",
    "    'dy': 25e-9,\n",
    "    # PML\n",
    "    'use_pml' : True,\n",
    "    'pml_thickness': 20,\n",
    "    'polarization': 'TM',\n",
    "    # TFSF\n",
    "    'tfsf_thickness': 10,\n",
    "    'order': 1,\n",
    "    'r_err': 1e-6,\n",
    "    # source\n",
    "    'source_type': 'plane_wave',\n",
    "    'form_type': 'gaussian',\n",
    "    'plane_x1' : 7,\n",
    "    'plane_x2' :193,\n",
    "    'plane_y1' : 7,\n",
    "    'plane_y2' : 193\n",
    "}"
   ]
  },
  {
   "attachments": {},
   "cell_type": "markdown",
   "metadata": {},
   "source": [
    "### Testing initializations"
   ]
  },
  {
   "cell_type": "code",
   "execution_count": 2,
   "metadata": {},
   "outputs": [
    {
     "name": "stdout",
     "output_type": "stream",
     "text": [
      "Reading configuration from file...\n"
     ]
    }
   ],
   "source": [
    "#tm_sim = FDTD2D(params = params)\n",
    "sim = FDTD2D(config_file = 'config.yaml')"
   ]
  },
  {
   "attachments": {},
   "cell_type": "markdown",
   "metadata": {},
   "source": [
    "### Set detectors"
   ]
  },
  {
   "cell_type": "code",
   "execution_count": 3,
   "metadata": {},
   "outputs": [],
   "source": [
    "point_detector = PointDetector(\"point1\", (50, 50))\n",
    "sim.add_detector(point_detector)"
   ]
  },
  {
   "attachments": {},
   "cell_type": "markdown",
   "metadata": {},
   "source": [
    "### Set sources"
   ]
  },
  {
   "cell_type": "code",
   "execution_count": 4,
   "metadata": {},
   "outputs": [],
   "source": [
    "point_source = PointSource(source_x=sim.source_x, source_y=sim.source_y, function=sim.function, frequency=sim.frequency)\n",
    "sim.add_source(point_source)"
   ]
  },
  {
   "cell_type": "code",
   "execution_count": 10,
   "metadata": {},
   "outputs": [
    {
     "ename": "AttributeError",
     "evalue": "'FDTD2D' object has no attribute 'line_x'",
     "output_type": "error",
     "traceback": [
      "\u001b[1;31m---------------------------------------------------------------------------\u001b[0m",
      "\u001b[1;31mAttributeError\u001b[0m                            Traceback (most recent call last)",
      "Cell \u001b[1;32mIn[10], line 1\u001b[0m\n\u001b[1;32m----> 1\u001b[0m line_source \u001b[39m=\u001b[39m LineSource(x\u001b[39m=\u001b[39msim\u001b[39m.\u001b[39;49mline_x, y1\u001b[39m=\u001b[39msim\u001b[39m.\u001b[39mline_y1, y2\u001b[39m=\u001b[39msim\u001b[39m.\u001b[39mline_y2, function\u001b[39m=\u001b[39msim\u001b[39m.\u001b[39mfunction, frequency\u001b[39m=\u001b[39msim\u001b[39m.\u001b[39mfrequency)\n\u001b[0;32m      2\u001b[0m sim\u001b[39m.\u001b[39madd_source(line_source)\n",
      "File \u001b[1;32mc:\\Users\\mazzo\\anaconda3\\envs\\fdtd\\lib\\site-packages\\torch\\nn\\modules\\module.py:1614\u001b[0m, in \u001b[0;36mModule.__getattr__\u001b[1;34m(self, name)\u001b[0m\n\u001b[0;32m   1612\u001b[0m     \u001b[39mif\u001b[39;00m name \u001b[39min\u001b[39;00m modules:\n\u001b[0;32m   1613\u001b[0m         \u001b[39mreturn\u001b[39;00m modules[name]\n\u001b[1;32m-> 1614\u001b[0m \u001b[39mraise\u001b[39;00m \u001b[39mAttributeError\u001b[39;00m(\u001b[39m\"\u001b[39m\u001b[39m'\u001b[39m\u001b[39m{}\u001b[39;00m\u001b[39m'\u001b[39m\u001b[39m object has no attribute \u001b[39m\u001b[39m'\u001b[39m\u001b[39m{}\u001b[39;00m\u001b[39m'\u001b[39m\u001b[39m\"\u001b[39m\u001b[39m.\u001b[39mformat(\n\u001b[0;32m   1615\u001b[0m     \u001b[39mtype\u001b[39m(\u001b[39mself\u001b[39m)\u001b[39m.\u001b[39m\u001b[39m__name__\u001b[39m, name))\n",
      "\u001b[1;31mAttributeError\u001b[0m: 'FDTD2D' object has no attribute 'line_x'"
     ]
    }
   ],
   "source": [
    "line_source = LineSource(x=sim.line_x, y1=sim.line_y1, y2=sim.line_y2, function=sim.function, frequency=sim.frequency)\n",
    "sim.add_source(line_source)"
   ]
  },
  {
   "attachments": {},
   "cell_type": "markdown",
   "metadata": {},
   "source": [
    "### Set geometry"
   ]
  },
  {
   "attachments": {},
   "cell_type": "markdown",
   "metadata": {},
   "source": [
    "The geometry for this test is absent. Propagation in air."
   ]
  },
  {
   "attachments": {},
   "cell_type": "markdown",
   "metadata": {},
   "source": [
    "### Print simulation info"
   ]
  },
  {
   "cell_type": "code",
   "execution_count": 4,
   "metadata": {},
   "outputs": [
    {
     "name": "stdout",
     "output_type": "stream",
     "text": [
      "Simulation setup information:\n",
      "nx: 200\n",
      "ny: 100\n",
      "time_steps: 10\n",
      "time: 0.0\n",
      "dx: 5e-08\n",
      "dy: 5e-08\n",
      "dt: 1.6678204759907602e-16\n"
     ]
    },
    {
     "ename": "AttributeError",
     "evalue": "'FDTD2D' object has no attribute 'use_pml'",
     "output_type": "error",
     "traceback": [
      "\u001b[1;31m---------------------------------------------------------------------------\u001b[0m",
      "\u001b[1;31mAttributeError\u001b[0m                            Traceback (most recent call last)",
      "Cell \u001b[1;32mIn[4], line 1\u001b[0m\n\u001b[1;32m----> 1\u001b[0m print_setup_info(sim)\n",
      "File \u001b[1;32mc:\\Users\\mazzo\\Documents\\TemporalFDTD\\src\\utilities.py:10\u001b[0m, in \u001b[0;36mprint_setup_info\u001b[1;34m(simulation)\u001b[0m\n\u001b[0;32m      8\u001b[0m \u001b[39mprint\u001b[39m(\u001b[39mf\u001b[39m\u001b[39m\"\u001b[39m\u001b[39mdy: \u001b[39m\u001b[39m{\u001b[39;00msimulation\u001b[39m.\u001b[39mdy\u001b[39m}\u001b[39;00m\u001b[39m\"\u001b[39m)\n\u001b[0;32m      9\u001b[0m \u001b[39mprint\u001b[39m(\u001b[39mf\u001b[39m\u001b[39m\"\u001b[39m\u001b[39mdt: \u001b[39m\u001b[39m{\u001b[39;00msimulation\u001b[39m.\u001b[39mdt\u001b[39m}\u001b[39;00m\u001b[39m\"\u001b[39m)\n\u001b[1;32m---> 10\u001b[0m \u001b[39mprint\u001b[39m(\u001b[39mf\u001b[39m\u001b[39m\"\u001b[39m\u001b[39muse_pml: \u001b[39m\u001b[39m{\u001b[39;00msimulation\u001b[39m.\u001b[39muse_pml\u001b[39m}\u001b[39;00m\u001b[39m\"\u001b[39m)\n\u001b[0;32m     11\u001b[0m \u001b[39mif\u001b[39;00m simulation\u001b[39m.\u001b[39muse_pml:\n\u001b[0;32m     12\u001b[0m     \u001b[39mprint\u001b[39m(\u001b[39mf\u001b[39m\u001b[39m\"\u001b[39m\u001b[39mpml_thickness: \u001b[39m\u001b[39m{\u001b[39;00msimulation\u001b[39m.\u001b[39mpml_thickness\u001b[39m}\u001b[39;00m\u001b[39m\"\u001b[39m)\n",
      "File \u001b[1;32mc:\\Users\\mazzo\\anaconda3\\envs\\fdtd\\lib\\site-packages\\torch\\nn\\modules\\module.py:1614\u001b[0m, in \u001b[0;36mModule.__getattr__\u001b[1;34m(self, name)\u001b[0m\n\u001b[0;32m   1612\u001b[0m     \u001b[39mif\u001b[39;00m name \u001b[39min\u001b[39;00m modules:\n\u001b[0;32m   1613\u001b[0m         \u001b[39mreturn\u001b[39;00m modules[name]\n\u001b[1;32m-> 1614\u001b[0m \u001b[39mraise\u001b[39;00m \u001b[39mAttributeError\u001b[39;00m(\u001b[39m\"\u001b[39m\u001b[39m'\u001b[39m\u001b[39m{}\u001b[39;00m\u001b[39m'\u001b[39m\u001b[39m object has no attribute \u001b[39m\u001b[39m'\u001b[39m\u001b[39m{}\u001b[39;00m\u001b[39m'\u001b[39m\u001b[39m\"\u001b[39m\u001b[39m.\u001b[39mformat(\n\u001b[0;32m   1615\u001b[0m     \u001b[39mtype\u001b[39m(\u001b[39mself\u001b[39m)\u001b[39m.\u001b[39m\u001b[39m__name__\u001b[39m, name))\n",
      "\u001b[1;31mAttributeError\u001b[0m: 'FDTD2D' object has no attribute 'use_pml'"
     ]
    }
   ],
   "source": [
    "print_setup_info(sim)"
   ]
  },
  {
   "attachments": {},
   "cell_type": "markdown",
   "metadata": {},
   "source": [
    "### Show material distribution"
   ]
  },
  {
   "cell_type": "code",
   "execution_count": 5,
   "metadata": {},
   "outputs": [
    {
     "data": {
      "image/png": "[encoded data removed]",
      "text/plain": [
       "<Figure size 640x480 with 2 Axes>"
      ]
     },
     "metadata": {},
     "output_type": "display_data"
    }
   ],
   "source": [
    "# Visualize permittivity distribution\n",
    "from matplotlib import pyplot as plt\n",
    "plt.imshow(sim.eps_r, cmap='jet')\n",
    "plt.title('Geometry distribution')\n",
    "plt.xlabel('x')\n",
    "plt.ylabel('y')\n",
    "plt.colorbar(cmap='jet')\n",
    "plt.show()"
   ]
  },
  {
   "attachments": {},
   "cell_type": "markdown",
   "metadata": {},
   "source": [
    "### Test simulation"
   ]
  },
  {
   "cell_type": "code",
   "execution_count": 5,
   "metadata": {},
   "outputs": [],
   "source": [
    "for i in range(1, sim.time_steps):\n",
    "        sim.simulation_step(i)\n",
    "        sim.time += sim.dt"
   ]
  },
  {
   "cell_type": "code",
   "execution_count": 6,
   "metadata": {},
   "outputs": [
    {
     "data": {
      "image/png": "[encoded data removed]",
      "text/plain": [
       "<Figure size 800x600 with 2 Axes>"
      ]
     },
     "metadata": {},
     "output_type": "display_data"
    }
   ],
   "source": [
    "viz2D(sim, sim.e_field[:,:,0])"
   ]
  },
  {
   "cell_type": "code",
   "execution_count": 11,
   "metadata": {},
   "outputs": [
    {
     "ename": "TypeError",
     "evalue": "Invalid shape (3, 2, 100) for image data",
     "output_type": "error",
     "traceback": [
      "\u001b[1;31m---------------------------------------------------------------------------\u001b[0m",
      "\u001b[1;31mTypeError\u001b[0m                                 Traceback (most recent call last)",
      "Cell \u001b[1;32mIn[11], line 9\u001b[0m\n\u001b[0;32m      4\u001b[0m \u001b[39m# assume that you have already initialized your FDTD simulation and calculated the Ez field and the geometry mask\u001b[39;00m\n\u001b[0;32m      5\u001b[0m \u001b[39m# you can modify the code below according to your simulation setup\u001b[39;00m\n\u001b[0;32m      6\u001b[0m \n\u001b[0;32m      7\u001b[0m \u001b[39m# plot the Ez field with cmap jet\u001b[39;00m\n\u001b[0;32m      8\u001b[0m fig, ax \u001b[39m=\u001b[39m plt\u001b[39m.\u001b[39msubplots(figsize\u001b[39m=\u001b[39m(\u001b[39m8\u001b[39m, \u001b[39m6\u001b[39m))\n\u001b[1;32m----> 9\u001b[0m im \u001b[39m=\u001b[39m ax\u001b[39m.\u001b[39;49mimshow(np\u001b[39m.\u001b[39;49mtranspose(sim\u001b[39m.\u001b[39;49me_field[:,:\u001b[39m2\u001b[39;49m]), cmap\u001b[39m=\u001b[39;49m\u001b[39m'\u001b[39;49m\u001b[39mjet\u001b[39;49m\u001b[39m'\u001b[39;49m, extent\u001b[39m=\u001b[39;49m[\u001b[39m0\u001b[39;49m, sim\u001b[39m.\u001b[39;49mnx\u001b[39m*\u001b[39;49msim\u001b[39m.\u001b[39;49mdx\u001b[39m*\u001b[39;49m\u001b[39m1e6\u001b[39;49m, sim\u001b[39m.\u001b[39;49mny\u001b[39m*\u001b[39;49msim\u001b[39m.\u001b[39;49mdy\u001b[39m*\u001b[39;49m\u001b[39m1e6\u001b[39;49m, \u001b[39m0\u001b[39;49m])\n\u001b[0;32m     10\u001b[0m ax\u001b[39m.\u001b[39mset_xlabel(\u001b[39m'\u001b[39m\u001b[39mx (um)\u001b[39m\u001b[39m'\u001b[39m)\n\u001b[0;32m     11\u001b[0m ax\u001b[39m.\u001b[39mset_ylabel(\u001b[39m'\u001b[39m\u001b[39my (um)\u001b[39m\u001b[39m'\u001b[39m)\n",
      "File \u001b[1;32mc:\\Users\\mazzo\\anaconda3\\envs\\fdtd\\lib\\site-packages\\matplotlib\\__init__.py:1472\u001b[0m, in \u001b[0;36m_preprocess_data.<locals>.inner\u001b[1;34m(ax, data, *args, **kwargs)\u001b[0m\n\u001b[0;32m   1469\u001b[0m \u001b[39m@functools\u001b[39m\u001b[39m.\u001b[39mwraps(func)\n\u001b[0;32m   1470\u001b[0m \u001b[39mdef\u001b[39;00m \u001b[39minner\u001b[39m(ax, \u001b[39m*\u001b[39margs, data\u001b[39m=\u001b[39m\u001b[39mNone\u001b[39;00m, \u001b[39m*\u001b[39m\u001b[39m*\u001b[39mkwargs):\n\u001b[0;32m   1471\u001b[0m     \u001b[39mif\u001b[39;00m data \u001b[39mis\u001b[39;00m \u001b[39mNone\u001b[39;00m:\n\u001b[1;32m-> 1472\u001b[0m         \u001b[39mreturn\u001b[39;00m func(ax, \u001b[39m*\u001b[39;49m\u001b[39mmap\u001b[39;49m(sanitize_sequence, args), \u001b[39m*\u001b[39;49m\u001b[39m*\u001b[39;49mkwargs)\n\u001b[0;32m   1474\u001b[0m     bound \u001b[39m=\u001b[39m new_sig\u001b[39m.\u001b[39mbind(ax, \u001b[39m*\u001b[39margs, \u001b[39m*\u001b[39m\u001b[39m*\u001b[39mkwargs)\n\u001b[0;32m   1475\u001b[0m     auto_label \u001b[39m=\u001b[39m (bound\u001b[39m.\u001b[39marguments\u001b[39m.\u001b[39mget(label_namer)\n\u001b[0;32m   1476\u001b[0m                   \u001b[39mor\u001b[39;00m bound\u001b[39m.\u001b[39mkwargs\u001b[39m.\u001b[39mget(label_namer))\n",
      "File \u001b[1;32mc:\\Users\\mazzo\\anaconda3\\envs\\fdtd\\lib\\site-packages\\matplotlib\\axes\\_axes.py:5665\u001b[0m, in \u001b[0;36mAxes.imshow\u001b[1;34m(self, X, cmap, norm, aspect, interpolation, alpha, vmin, vmax, origin, extent, interpolation_stage, filternorm, filterrad, resample, url, **kwargs)\u001b[0m\n\u001b[0;32m   5657\u001b[0m \u001b[39mself\u001b[39m\u001b[39m.\u001b[39mset_aspect(aspect)\n\u001b[0;32m   5658\u001b[0m im \u001b[39m=\u001b[39m mimage\u001b[39m.\u001b[39mAxesImage(\u001b[39mself\u001b[39m, cmap\u001b[39m=\u001b[39mcmap, norm\u001b[39m=\u001b[39mnorm,\n\u001b[0;32m   5659\u001b[0m                       interpolation\u001b[39m=\u001b[39minterpolation, origin\u001b[39m=\u001b[39morigin,\n\u001b[0;32m   5660\u001b[0m                       extent\u001b[39m=\u001b[39mextent, filternorm\u001b[39m=\u001b[39mfilternorm,\n\u001b[0;32m   5661\u001b[0m                       filterrad\u001b[39m=\u001b[39mfilterrad, resample\u001b[39m=\u001b[39mresample,\n\u001b[0;32m   5662\u001b[0m                       interpolation_stage\u001b[39m=\u001b[39minterpolation_stage,\n\u001b[0;32m   5663\u001b[0m                       \u001b[39m*\u001b[39m\u001b[39m*\u001b[39mkwargs)\n\u001b[1;32m-> 5665\u001b[0m im\u001b[39m.\u001b[39;49mset_data(X)\n\u001b[0;32m   5666\u001b[0m im\u001b[39m.\u001b[39mset_alpha(alpha)\n\u001b[0;32m   5667\u001b[0m \u001b[39mif\u001b[39;00m im\u001b[39m.\u001b[39mget_clip_path() \u001b[39mis\u001b[39;00m \u001b[39mNone\u001b[39;00m:\n\u001b[0;32m   5668\u001b[0m     \u001b[39m# image does not already have clipping set, clip to axes patch\u001b[39;00m\n",
      "File \u001b[1;32mc:\\Users\\mazzo\\anaconda3\\envs\\fdtd\\lib\\site-packages\\matplotlib\\image.py:710\u001b[0m, in \u001b[0;36m_ImageBase.set_data\u001b[1;34m(self, A)\u001b[0m\n\u001b[0;32m    706\u001b[0m     \u001b[39mself\u001b[39m\u001b[39m.\u001b[39m_A \u001b[39m=\u001b[39m \u001b[39mself\u001b[39m\u001b[39m.\u001b[39m_A[:, :, \u001b[39m0\u001b[39m]\n\u001b[0;32m    708\u001b[0m \u001b[39mif\u001b[39;00m \u001b[39mnot\u001b[39;00m (\u001b[39mself\u001b[39m\u001b[39m.\u001b[39m_A\u001b[39m.\u001b[39mndim \u001b[39m==\u001b[39m \u001b[39m2\u001b[39m\n\u001b[0;32m    709\u001b[0m         \u001b[39mor\u001b[39;00m \u001b[39mself\u001b[39m\u001b[39m.\u001b[39m_A\u001b[39m.\u001b[39mndim \u001b[39m==\u001b[39m \u001b[39m3\u001b[39m \u001b[39mand\u001b[39;00m \u001b[39mself\u001b[39m\u001b[39m.\u001b[39m_A\u001b[39m.\u001b[39mshape[\u001b[39m-\u001b[39m\u001b[39m1\u001b[39m] \u001b[39min\u001b[39;00m [\u001b[39m3\u001b[39m, \u001b[39m4\u001b[39m]):\n\u001b[1;32m--> 710\u001b[0m     \u001b[39mraise\u001b[39;00m \u001b[39mTypeError\u001b[39;00m(\u001b[39m\"\u001b[39m\u001b[39mInvalid shape \u001b[39m\u001b[39m{}\u001b[39;00m\u001b[39m for image data\u001b[39m\u001b[39m\"\u001b[39m\n\u001b[0;32m    711\u001b[0m                     \u001b[39m.\u001b[39mformat(\u001b[39mself\u001b[39m\u001b[39m.\u001b[39m_A\u001b[39m.\u001b[39mshape))\n\u001b[0;32m    713\u001b[0m \u001b[39mif\u001b[39;00m \u001b[39mself\u001b[39m\u001b[39m.\u001b[39m_A\u001b[39m.\u001b[39mndim \u001b[39m==\u001b[39m \u001b[39m3\u001b[39m:\n\u001b[0;32m    714\u001b[0m     \u001b[39m# If the input data has values outside the valid range (after\u001b[39;00m\n\u001b[0;32m    715\u001b[0m     \u001b[39m# normalisation), we issue a warning and then clip X to the bounds\u001b[39;00m\n\u001b[0;32m    716\u001b[0m     \u001b[39m# - otherwise casting wraps extreme values, hiding outliers and\u001b[39;00m\n\u001b[0;32m    717\u001b[0m     \u001b[39m# making reliable interpretation impossible.\u001b[39;00m\n\u001b[0;32m    718\u001b[0m     high \u001b[39m=\u001b[39m \u001b[39m255\u001b[39m \u001b[39mif\u001b[39;00m np\u001b[39m.\u001b[39missubdtype(\u001b[39mself\u001b[39m\u001b[39m.\u001b[39m_A\u001b[39m.\u001b[39mdtype, np\u001b[39m.\u001b[39minteger) \u001b[39melse\u001b[39;00m \u001b[39m1\u001b[39m\n",
      "\u001b[1;31mTypeError\u001b[0m: Invalid shape (3, 2, 100) for image data"
     ]
    },
    {
     "data": {
      "image/png": "[encoded data removed]",
      "text/plain": [
       "<Figure size 800x600 with 1 Axes>"
      ]
     },
     "metadata": {},
     "output_type": "display_data"
    }
   ],
   "source": [
    "import matplotlib.pyplot as plt\n",
    "import numpy as np\n",
    "\n",
    "# assume that you have already initialized your FDTD simulation and calculated the Ez field and the geometry mask\n",
    "# you can modify the code below according to your simulation setup\n",
    "\n",
    "# plot the Ez field with cmap jet\n",
    "fig, ax = plt.subplots(figsize=(8, 6))\n",
    "im = ax.imshow(np.transpose(sim.e_field[:,:2]), cmap='jet', extent=[0, sim.nx*sim.dx*1e6, sim.ny*sim.dy*1e6, 0])\n",
    "ax.set_xlabel('x (um)')\n",
    "ax.set_ylabel('y (um)')\n",
    "ax.set_title('Ez Field')\n",
    "# plot the geometry mask with cmap binary\n",
    "ax.imshow(np.transpose(sim.eps_r), cmap='binary', extent=[0, sim.nx*sim.dx*1e6, sim.ny*sim.dy*1e6, 0],alpha=0.3)\n",
    "\n",
    "fig.colorbar(im)\n",
    "\n",
    "plt.show()"
   ]
  },
  {
   "cell_type": "code",
   "execution_count": 8,
   "metadata": {},
   "outputs": [
    {
     "name": "stdout",
     "output_type": "stream",
     "text": [
      "tensor([[-2.9407e+70,  3.2312e+70, -3.4547e+70,  3.6044e+70, -3.6851e+70,\n",
      "          3.7092e+70, -3.6851e+70,  3.6044e+70, -3.4547e+70,  3.2312e+70],\n",
      "        [ 3.2312e+70, -3.5190e+70,  3.7215e+70, -3.8353e+70,  3.8776e+70,\n",
      "         -3.8827e+70,  3.8776e+70, -3.8353e+70,  3.7215e+70, -3.5190e+70],\n",
      "        [-3.4547e+70,  3.7215e+70, -3.8764e+70,  3.9165e+70, -3.8749e+70,\n",
      "          3.8313e+70, -3.8749e+70,  3.9165e+70, -3.8764e+70,  3.7215e+70],\n",
      "        [ 3.6044e+70, -3.8353e+70,  3.9165e+70, -3.8330e+70,  3.6218e+70,\n",
      "         -3.4405e+70,  3.6218e+70, -3.8330e+70,  3.9165e+70, -3.8353e+70],\n",
      "        [-3.6851e+70,  3.8776e+70, -3.8749e+70,  3.6218e+70, -3.0899e+70,\n",
      "          2.4487e+70, -3.0899e+70,  3.6218e+70, -3.8749e+70,  3.8776e+70],\n",
      "        [ 3.7092e+70, -3.8827e+70,  3.8313e+70, -3.4405e+70,  2.4487e+70,\n",
      "         -5.7041e-01,  2.4487e+70, -3.4405e+70,  3.8313e+70, -3.8827e+70],\n",
      "        [-3.6851e+70,  3.8776e+70, -3.8749e+70,  3.6218e+70, -3.0899e+70,\n",
      "          2.4487e+70, -3.0899e+70,  3.6218e+70, -3.8749e+70,  3.8776e+70],\n",
      "        [ 3.6044e+70, -3.8353e+70,  3.9165e+70, -3.8330e+70,  3.6218e+70,\n",
      "         -3.4405e+70,  3.6218e+70, -3.8330e+70,  3.9165e+70, -3.8353e+70],\n",
      "        [-3.4547e+70,  3.7215e+70, -3.8764e+70,  3.9165e+70, -3.8749e+70,\n",
      "          3.8313e+70, -3.8749e+70,  3.9165e+70, -3.8764e+70,  3.7215e+70],\n",
      "        [ 3.2312e+70, -3.5190e+70,  3.7215e+70, -3.8353e+70,  3.8776e+70,\n",
      "         -3.8827e+70,  3.8776e+70, -3.8353e+70,  3.7215e+70, -3.5190e+70]],\n",
      "       dtype=torch.float64)\n"
     ]
    }
   ],
   "source": [
    "print(sim.e_field[45:55,45:55,2])"
   ]
  },
  {
   "cell_type": "code",
   "execution_count": 10,
   "metadata": {},
   "outputs": [
    {
     "name": "stderr",
     "output_type": "stream",
     "text": [
      "c:\\Users\\mazzo\\anaconda3\\envs\\fdtd\\lib\\site-packages\\numpy\\core\\shape_base.py:65: FutureWarning: The input object of type 'Tensor' is an array-like implementing one of the corresponding protocols (`__array__`, `__array_interface__` or `__array_struct__`); but not a sequence (or 0-D). In the future, this object will be coerced as if it was first converted using `np.array(obj)`. To retain the old behaviour, you have to either modify the type 'Tensor', or assign to an empty array created with `np.empty(correct_shape, dtype=object)`.\n",
      "  ary = asanyarray(ary)\n",
      "c:\\Users\\mazzo\\anaconda3\\envs\\fdtd\\lib\\site-packages\\numpy\\core\\shape_base.py:65: VisibleDeprecationWarning: Creating an ndarray from ragged nested sequences (which is a list-or-tuple of lists-or-tuples-or ndarrays with different lengths or shapes) is deprecated. If you meant to do this, you must specify 'dtype=object' when creating the ndarray.\n",
      "  ary = asanyarray(ary)\n"
     ]
    },
    {
     "data": {
      "text/plain": [
       "[<matplotlib.lines.Line2D at 0x1af3e8552e0>]"
      ]
     },
     "execution_count": 10,
     "metadata": {},
     "output_type": "execute_result"
    },
    {
     "data": {
      "image/png": "[encoded data removed]",
      "text/plain": [
       "<Figure size 640x480 with 1 Axes>"
      ]
     },
     "metadata": {},
     "output_type": "display_data"
    }
   ],
   "source": [
    "from matplotlib import pyplot as plt\n",
    "plt.plot(point_detector.recorded_values)"
   ]
  },
  {
   "cell_type": "code",
   "execution_count": 11,
   "metadata": {},
   "outputs": [
    {
     "data": {
      "text/plain": [
       "tensor([[376.7303, 376.7303, 376.7303,  ..., 376.7303, 376.7303, 376.7303],\n",
       "        [376.7303, 376.7303, 376.7303,  ..., 376.7303, 376.7303, 376.7303],\n",
       "        [376.7303, 376.7303, 376.7303,  ..., 376.7303, 376.7303, 376.7303],\n",
       "        ...,\n",
       "        [376.7303, 376.7303, 376.7303,  ..., 376.7303, 376.7303, 376.7303],\n",
       "        [376.7303, 376.7303, 376.7303,  ..., 376.7303, 376.7303, 376.7303],\n",
       "        [376.7303, 376.7303, 376.7303,  ..., 376.7303, 376.7303, 376.7303]],\n",
       "       dtype=torch.float64)"
      ]
     },
     "execution_count": 11,
     "metadata": {},
     "output_type": "execute_result"
    }
   ],
   "source": [
    "#sim.ca\n",
    "sim.cb\n",
    "#sim.da\n",
    "#sim.db"
   ]
  },
  {
   "cell_type": "code",
   "execution_count": 10,
   "metadata": {},
   "outputs": [
    {
     "name": "stdout",
     "output_type": "stream",
     "text": [
      "Requirement already satisfied: vtk in c:\\users\\mazzo\\anaconda3\\envs\\fdtd\\lib\\site-packages (9.2.6)\n",
      "Requirement already satisfied: matplotlib>=2.0.0 in c:\\users\\mazzo\\anaconda3\\envs\\fdtd\\lib\\site-packages (from vtk) (3.7.1)\n",
      "Requirement already satisfied: pillow>=6.2.0 in c:\\users\\mazzo\\anaconda3\\envs\\fdtd\\lib\\site-packages (from matplotlib>=2.0.0->vtk) (9.4.0)\n",
      "Requirement already satisfied: fonttools>=4.22.0 in c:\\users\\mazzo\\anaconda3\\envs\\fdtd\\lib\\site-packages (from matplotlib>=2.0.0->vtk) (4.39.2)\n",
      "Requirement already satisfied: packaging>=20.0 in c:\\users\\mazzo\\anaconda3\\envs\\fdtd\\lib\\site-packages (from matplotlib>=2.0.0->vtk) (23.0)\n",
      "Requirement already satisfied: python-dateutil>=2.7 in c:\\users\\mazzo\\anaconda3\\envs\\fdtd\\lib\\site-packages (from matplotlib>=2.0.0->vtk) (2.8.2)\n",
      "Requirement already satisfied: pyparsing>=2.3.1 in c:\\users\\mazzo\\anaconda3\\envs\\fdtd\\lib\\site-packages (from matplotlib>=2.0.0->vtk) (3.0.9)\n",
      "Requirement already satisfied: cycler>=0.10 in c:\\users\\mazzo\\anaconda3\\envs\\fdtd\\lib\\site-packages (from matplotlib>=2.0.0->vtk) (0.11.0)\n",
      "Requirement already satisfied: kiwisolver>=1.0.1 in c:\\users\\mazzo\\anaconda3\\envs\\fdtd\\lib\\site-packages (from matplotlib>=2.0.0->vtk) (1.4.4)\n",
      "Requirement already satisfied: contourpy>=1.0.1 in c:\\users\\mazzo\\anaconda3\\envs\\fdtd\\lib\\site-packages (from matplotlib>=2.0.0->vtk) (1.0.7)\n",
      "Requirement already satisfied: numpy>=1.20 in c:\\users\\mazzo\\anaconda3\\envs\\fdtd\\lib\\site-packages (from matplotlib>=2.0.0->vtk) (1.22.3)\n",
      "Requirement already satisfied: importlib-resources>=3.2.0 in c:\\users\\mazzo\\anaconda3\\envs\\fdtd\\lib\\site-packages (from matplotlib>=2.0.0->vtk) (5.12.0)\n",
      "Requirement already satisfied: zipp>=3.1.0 in c:\\users\\mazzo\\anaconda3\\envs\\fdtd\\lib\\site-packages (from importlib-resources>=3.2.0->matplotlib>=2.0.0->vtk) (3.15.0)\n",
      "Requirement already satisfied: six>=1.5 in c:\\users\\mazzo\\anaconda3\\envs\\fdtd\\lib\\site-packages (from python-dateutil>=2.7->matplotlib>=2.0.0->vtk) (1.16.0)\n"
     ]
    }
   ],
   "source": [
    "!pip install vtk"
   ]
  },
  {
   "cell_type": "code",
   "execution_count": 67,
   "metadata": {},
   "outputs": [],
   "source": [
    "import numpy as np\n",
    "import vtk\n",
    "from vtk.util import numpy_support\n",
    "\n",
    "tm_sim.nx, tm_sim.ny = tm_sim.Dz.shape\n",
    "\n",
    "# Convert the numpy arrays to vtkImageData\n",
    "energy_data = numpy_support.numpy_to_vtk(tm_sim.Dz.ravel(), deep=True, array_type=vtk.VTK_FLOAT)\n",
    "geometry_data = numpy_support.numpy_to_vtk(tm_sim.gaz.ravel(), deep=True, array_type=vtk.VTK_UNSIGNED_CHAR)\n",
    "\n",
    "energy_image = vtk.vtkImageData()\n",
    "energy_image.SetDimensions(tm_sim.nx, tm_sim.ny, 1)\n",
    "energy_image.GetPointData().SetScalars(energy_data)\n",
    "\n",
    "# geometry_image = vtk.vtkImageData()\n",
    "# geometry_image.SetDimensions(tm_sim.nx, tm_sim.ny, 1)\n",
    "# geometry_image.GetPointData().SetScalars(geometry_data)\n",
    "\n",
    "# Create actors for energy and geometry data\n",
    "energy_mapper = vtk.vtkDataSetMapper()\n",
    "energy_mapper.SetInputData(energy_image)\n",
    "energy_actor = vtk.vtkActor()\n",
    "energy_actor.SetMapper(energy_mapper)\n",
    "\n",
    "# geometry_mapper = vtk.vtkDataSetMapper()\n",
    "# geometry_mapper.SetInputData(geometry_image)\n",
    "# geometry_actor = vtk.vtkActor()\n",
    "# geometry_actor.SetMapper(geometry_mapper)\n",
    "\n",
    "# Set up the renderer and render window\n",
    "renderer = vtk.vtkRenderer()\n",
    "renderer.AddActor(energy_actor)\n",
    "# renderer.AddActor(geometry_actor)\n",
    "renderer.SetBackground(0.2, 0.2, 0.2)\n",
    "\n",
    "render_window = vtk.vtkRenderWindow()\n",
    "render_window.AddRenderer(renderer)\n",
    "render_window.SetSize(800, 800)\n",
    "\n",
    "# Set up the interactor and start the visualization\n",
    "interactor = vtk.vtkRenderWindowInteractor()\n",
    "interactor.SetRenderWindow(render_window)\n",
    "interactor.Initialize()\n",
    "interactor.Start()"
   ]
  },
  {
   "cell_type": "code",
   "execution_count": 12,
   "metadata": {},
   "outputs": [
    {
     "data": {
      "text/plain": [
       "tensor([[376.7303, 376.7303, 376.7303,  ..., 376.7303, 376.7303, 376.7303],\n",
       "        [376.7303, 376.7303, 376.7303,  ..., 376.7303, 376.7303, 376.7303],\n",
       "        [376.7303, 376.7303, 376.7303,  ..., 376.7303, 376.7303, 376.7303],\n",
       "        ...,\n",
       "        [376.7303, 376.7303, 376.7303,  ..., 376.7303, 376.7303, 376.7303],\n",
       "        [376.7303, 376.7303, 376.7303,  ..., 376.7303, 376.7303, 376.7303],\n",
       "        [376.7303, 376.7303, 376.7303,  ..., 376.7303, 376.7303, 376.7303]],\n",
       "       dtype=torch.float64)"
      ]
     },
     "execution_count": 12,
     "metadata": {},
     "output_type": "execute_result"
    }
   ],
   "source": [
    "sim.dt/(sim.eps_0*sim.eps_r*sim.dx)"
   ]
  },
  {
   "cell_type": "code",
   "execution_count": 11,
   "metadata": {},
   "outputs": [
    {
     "data": {
      "text/plain": [
       "tensor([[0.0027, 0.0027, 0.0027,  ..., 0.0027, 0.0027, 0.0027],\n",
       "        [0.0027, 0.0027, 0.0027,  ..., 0.0027, 0.0027, 0.0027],\n",
       "        [0.0027, 0.0027, 0.0027,  ..., 0.0027, 0.0027, 0.0027],\n",
       "        ...,\n",
       "        [0.0027, 0.0027, 0.0027,  ..., 0.0027, 0.0027, 0.0027],\n",
       "        [0.0027, 0.0027, 0.0027,  ..., 0.0027, 0.0027, 0.0027],\n",
       "        [0.0027, 0.0027, 0.0027,  ..., 0.0027, 0.0027, 0.0027]],\n",
       "       dtype=torch.float64)"
      ]
     },
     "execution_count": 11,
     "metadata": {},
     "output_type": "execute_result"
    }
   ],
   "source": [
    "sim.dt/(sim.mu_0*sim.mu_r*sim.dx)"
   ]
  },
  {
   "cell_type": "code",
   "execution_count": 6,
   "metadata": {},
   "outputs": [
    {
     "data": {
      "text/plain": [
       "tensor([[0.0027, 0.0027, 0.0027,  ..., 0.0027, 0.0027, 0.0027],\n",
       "        [0.0027, 0.0027, 0.0027,  ..., 0.0027, 0.0027, 0.0027],\n",
       "        [0.0027, 0.0027, 0.0027,  ..., 0.0027, 0.0027, 0.0027],\n",
       "        ...,\n",
       "        [0.0027, 0.0027, 0.0027,  ..., 0.0027, 0.0027, 0.0027],\n",
       "        [0.0027, 0.0027, 0.0027,  ..., 0.0027, 0.0027, 0.0027],\n",
       "        [0.0027, 0.0027, 0.0027,  ..., 0.0027, 0.0027, 0.0027]],\n",
       "       dtype=torch.float64)"
      ]
     },
     "execution_count": 6,
     "metadata": {},
     "output_type": "execute_result"
    }
   ],
   "source": [
    "sim.db"
   ]
  },
  {
   "cell_type": "code",
   "execution_count": 13,
   "metadata": {},
   "outputs": [
    {
     "name": "stdout",
     "output_type": "stream",
     "text": [
      "da_air: 1.0\n",
      "db_air: 0.0013272093647190362\n"
     ]
    }
   ],
   "source": [
    "import numpy as np\n",
    "mu_r = 1  # Relative permeability in air\n",
    "sigma_m = 0  # Magnetic conductivity in air\n",
    "mu_0 = 4 * np.pi * 1e-7  # Permeability of free space (H/m)\n",
    "c = 299792458  # Speed of light (m/s)\n",
    "dx = 1e-9  # Spatial step (m)\n",
    "dt = dx/(2*c)\n",
    "# Calculate da and db for air\n",
    "da_air = (1 - (sigma_m * dt) / (2 * mu_0 * mu_r)) / (1 + (sigma_m * dt) / (2 * mu_0 * mu_r))\n",
    "db_air = (dt / (mu_0 * mu_r * dx)) / (1 + (sigma_m * dt) / (2 * mu_0 * mu_r))\n",
    "\n",
    "print(\"da_air:\", da_air)\n",
    "print(\"db_air:\", db_air)"
   ]
  },
  {
   "cell_type": "code",
   "execution_count": 14,
   "metadata": {},
   "outputs": [
    {
     "name": "stdout",
     "output_type": "stream",
     "text": [
      "ca_air: 1.0\n",
      "cb_air: 188.36915247241478\n"
     ]
    }
   ],
   "source": [
    "eps_r = 1  # Relative permittivity in air\n",
    "sigma = 0  # Electric conductivity in air\n",
    "eps_0 = 8.854e-12  # Permittivity of free space (F/m)\n",
    "\n",
    "# Calculate ca and cb for air\n",
    "ca_air = (1 - (sigma * dt) / (2 * eps_0 * eps_r)) / (1 + (sigma * dt) / (2 * eps_0 * eps_r))\n",
    "cb_air = (dt / (eps_0 * eps_r * dx )) #/ (1 + (sigma * dt) / (2 * eps_0 * eps_r))\n",
    "\n",
    "print(\"ca_air:\", ca_air)\n",
    "print(\"cb_air:\", cb_air)"
   ]
  },
  {
   "cell_type": "code",
   "execution_count": 11,
   "metadata": {},
   "outputs": [
    {
     "name": "stdout",
     "output_type": "stream",
     "text": [
      "1.0\n",
      "0.5\n"
     ]
    }
   ],
   "source": [
    "eaf = dt *sigma /(2 * eps_0 *eps_r)\n",
    "ca = (1 - eaf)/ (1 + eaf)\n",
    "cb = 0.5/(eps_r*( 1 + eaf))\n",
    "print(ca)\n",
    "print(cb)"
   ]
  },
  {
   "cell_type": "code",
   "execution_count": 10,
   "metadata": {},
   "outputs": [
    {
     "data": {
      "text/plain": [
       "tensor([[1., 1., 1.,  ..., 1., 1., 1.],\n",
       "        [1., 1., 1.,  ..., 1., 1., 1.],\n",
       "        [1., 1., 1.,  ..., 1., 1., 1.],\n",
       "        ...,\n",
       "        [1., 1., 1.,  ..., 1., 1., 1.],\n",
       "        [1., 1., 1.,  ..., 1., 1., 1.],\n",
       "        [1., 1., 1.,  ..., 1., 1., 1.]], dtype=torch.float64)"
      ]
     },
     "execution_count": 10,
     "metadata": {},
     "output_type": "execute_result"
    }
   ],
   "source": [
    "sim.da\n",
    "#sim.db\n",
    "#sim.ca\n",
    "#sim.cb\n"
   ]
  },
  {
   "cell_type": "code",
   "execution_count": null,
   "metadata": {},
   "outputs": [],
   "source": []
  }
 ],
 "metadata": {
  "kernelspec": {
   "display_name": "fdtd",
   "language": "python",
   "name": "python3"
  },
  "language_info": {
   "codemirror_mode": {
    "name": "ipython",
    "version": 3
   },
   "file_extension": ".py",
   "mimetype": "text/x-python",
   "name": "python",
   "nbconvert_exporter": "python",
   "pygments_lexer": "ipython3",
   "version": "3.8.16"
  },
  "orig_nbformat": 4
 },
 "nbformat": 4,
 "nbformat_minor": 2
}
