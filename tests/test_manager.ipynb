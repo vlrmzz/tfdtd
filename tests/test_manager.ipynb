{
 "cells": [
  {
   "cell_type": "code",
   "execution_count": 1,
   "metadata": {},
   "outputs": [],
   "source": [
    "import sys\n",
    "import os\n",
    "\n",
    "# Add the parent directory to sys.path\n",
    "sys.path.append(os.path.dirname(os.getcwd()))"
   ]
  },
  {
   "cell_type": "code",
   "execution_count": 2,
   "metadata": {},
   "outputs": [
    {
     "ename": "TypeError",
     "evalue": "can't multiply sequence by non-int of type 'float'",
     "output_type": "error",
     "traceback": [
      "\u001b[1;31m---------------------------------------------------------------------------\u001b[0m",
      "\u001b[1;31mTypeError\u001b[0m                                 Traceback (most recent call last)",
      "Cell \u001b[1;32mIn[2], line 8\u001b[0m\n\u001b[0;32m      5\u001b[0m project \u001b[39m=\u001b[39m Project(config_folder\u001b[39m=\u001b[39m\u001b[39m'\u001b[39m\u001b[39m..\u001b[39m\u001b[39m\\\u001b[39m\u001b[39mconfigs\u001b[39m\u001b[39m\\\u001b[39m\u001b[39mconfig.yaml\u001b[39m\u001b[39m'\u001b[39m, project_dir\u001b[39m=\u001b[39m\u001b[39m'\u001b[39m\u001b[39m../projects\u001b[39m\u001b[39m\\\u001b[39m\u001b[39mproject1\u001b[39m\u001b[39m'\u001b[39m)\n\u001b[0;32m      7\u001b[0m \u001b[39m# Call the setup() method to create the project directory structure and copy the config file\u001b[39;00m\n\u001b[1;32m----> 8\u001b[0m project\u001b[39m.\u001b[39;49msetup()\n",
      "File \u001b[1;32mc:\\Users\\mazzo\\Documents\\TemporalFDTD\\project_manager\\manager.py:52\u001b[0m, in \u001b[0;36mProject.setup\u001b[1;34m(self)\u001b[0m\n\u001b[0;32m     50\u001b[0m \u001b[39mself\u001b[39m\u001b[39m.\u001b[39msetup_directories()\n\u001b[0;32m     51\u001b[0m \u001b[39mself\u001b[39m\u001b[39m.\u001b[39mcopy_config()\n\u001b[1;32m---> 52\u001b[0m \u001b[39mself\u001b[39;49m\u001b[39m.\u001b[39;49msetup_simulation()\n",
      "File \u001b[1;32mc:\\Users\\mazzo\\Documents\\TemporalFDTD\\project_manager\\manager.py:39\u001b[0m, in \u001b[0;36mProject.setup_simulation\u001b[1;34m(self)\u001b[0m\n\u001b[0;32m     36\u001b[0m \u001b[39mfor\u001b[39;00m source_config \u001b[39min\u001b[39;00m config[\u001b[39m'\u001b[39m\u001b[39msources\u001b[39m\u001b[39m'\u001b[39m]:\n\u001b[0;32m     37\u001b[0m     \u001b[39m# Create the appropriate source object based on the type\u001b[39;00m\n\u001b[0;32m     38\u001b[0m     \u001b[39mif\u001b[39;00m source_config[\u001b[39m'\u001b[39m\u001b[39mtype\u001b[39m\u001b[39m'\u001b[39m] \u001b[39m==\u001b[39m \u001b[39m'\u001b[39m\u001b[39mline\u001b[39m\u001b[39m'\u001b[39m:\n\u001b[1;32m---> 39\u001b[0m         source \u001b[39m=\u001b[39m LineSource(source_config)\n\u001b[0;32m     40\u001b[0m     \u001b[39melif\u001b[39;00m source_config[\u001b[39m'\u001b[39m\u001b[39mtype\u001b[39m\u001b[39m'\u001b[39m] \u001b[39m==\u001b[39m \u001b[39m'\u001b[39m\u001b[39mpoint\u001b[39m\u001b[39m'\u001b[39m:\n\u001b[0;32m     41\u001b[0m         source \u001b[39m=\u001b[39m PointSource(source_config)\n",
      "File \u001b[1;32mc:\\Users\\mazzo\\Documents\\TemporalFDTD\\simulator\\sources\\line_source.py:21\u001b[0m, in \u001b[0;36mLineSource.__init__\u001b[1;34m(self, source_params)\u001b[0m\n\u001b[0;32m     19\u001b[0m \u001b[39melif\u001b[39;00m \u001b[39mself\u001b[39m\u001b[39m.\u001b[39mfunction \u001b[39m==\u001b[39m \u001b[39m'\u001b[39m\u001b[39msinusoidal\u001b[39m\u001b[39m'\u001b[39m:\n\u001b[0;32m     20\u001b[0m     \u001b[39mself\u001b[39m\u001b[39m.\u001b[39mfrequency \u001b[39m=\u001b[39m source_params[\u001b[39m'\u001b[39m\u001b[39mfrequency\u001b[39m\u001b[39m'\u001b[39m]\n\u001b[1;32m---> 21\u001b[0m     \u001b[39mself\u001b[39m\u001b[39m.\u001b[39momega \u001b[39m=\u001b[39m \u001b[39m2\u001b[39;49m \u001b[39m*\u001b[39;49m np\u001b[39m.\u001b[39;49mpi \u001b[39m*\u001b[39;49m \u001b[39mself\u001b[39;49m\u001b[39m.\u001b[39;49mfrequency\n\u001b[0;32m     22\u001b[0m \u001b[39melse\u001b[39;00m:\n\u001b[0;32m     23\u001b[0m     \u001b[39mraise\u001b[39;00m \u001b[39mValueError\u001b[39;00m(\u001b[39mf\u001b[39m\u001b[39m\"\u001b[39m\u001b[39mUnsupported function type: \u001b[39m\u001b[39m{\u001b[39;00m\u001b[39mself\u001b[39m\u001b[39m.\u001b[39mfunction\u001b[39m}\u001b[39;00m\u001b[39m\"\u001b[39m)\n",
      "\u001b[1;31mTypeError\u001b[0m: can't multiply sequence by non-int of type 'float'"
     ]
    }
   ],
   "source": [
    "# Usage\n",
    "from project_manager.manager import Project\n",
    "\n",
    "# Initialize the Project instance with the path to your config file and the desired project directory\n",
    "project = Project(config_folder='..\\configs\\config.yaml', project_dir='../projects\\project1')\n",
    "\n",
    "# Call the setup() method to create the project directory structure and copy the config file\n",
    "project.setup()"
   ]
  }
 ],
 "metadata": {
  "kernelspec": {
   "display_name": "fdtd",
   "language": "python",
   "name": "python3"
  },
  "language_info": {
   "codemirror_mode": {
    "name": "ipython",
    "version": 3
   },
   "file_extension": ".py",
   "mimetype": "text/x-python",
   "name": "python",
   "nbconvert_exporter": "python",
   "pygments_lexer": "ipython3",
   "version": "3.10.10"
  },
  "orig_nbformat": 4
 },
 "nbformat": 4,
 "nbformat_minor": 2
}
