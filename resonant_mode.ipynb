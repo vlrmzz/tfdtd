{
 "cells": [
  {
   "attachments": {},
   "cell_type": "markdown",
   "metadata": {},
   "source": [
    "Import simulator and utilities"
   ]
  },
  {
   "cell_type": "code",
   "execution_count": 1,
   "metadata": {},
   "outputs": [],
   "source": [
    "from src.base import FDTD2D\n",
    "from src.detectors import PointDetector\n",
    "from src.geometries import Rectangle,Circle\n",
    "from src.sources import PointSource, LineSource\n",
    "\n",
    "from src.viz import viz2D\n",
    "from src.utilities import print_setup_info"
   ]
  },
  {
   "cell_type": "code",
   "execution_count": 2,
   "metadata": {},
   "outputs": [
    {
     "name": "stdout",
     "output_type": "stream",
     "text": [
      "1.9986163866666668e-06\n"
     ]
    }
   ],
   "source": [
    "# convert frequency\n",
    "f = 1.5e14 #1/s\n",
    "c = 299792458 #m/s\n",
    "wavelength = c/f #m\n",
    "print(wavelength)\n"
   ]
  },
  {
   "attachments": {},
   "cell_type": "markdown",
   "metadata": {},
   "source": [
    "### Testing initializations"
   ]
  },
  {
   "cell_type": "code",
   "execution_count": 3,
   "metadata": {},
   "outputs": [
    {
     "name": "stdout",
     "output_type": "stream",
     "text": [
      "Reading configuration from file...\n"
     ]
    }
   ],
   "source": [
    "tm_sim = FDTD2D(config_file = 'config.yaml')"
   ]
  },
  {
   "attachments": {},
   "cell_type": "markdown",
   "metadata": {},
   "source": [
    "### Set detectors"
   ]
  },
  {
   "cell_type": "code",
   "execution_count": 4,
   "metadata": {},
   "outputs": [],
   "source": [
    "point_detector = PointDetector(\"point1\", (98, 53))\n",
    "tm_sim.add_detector(point_detector)"
   ]
  },
  {
   "attachments": {},
   "cell_type": "markdown",
   "metadata": {},
   "source": [
    "### Set sources"
   ]
  },
  {
   "cell_type": "code",
   "execution_count": 5,
   "metadata": {},
   "outputs": [],
   "source": [
    "line_source = LineSource(x=tm_sim.line_x, y1=tm_sim.line_y1, y2=tm_sim.line_y2, function=tm_sim.function, frequency=tm_sim.frequency)\n",
    "tm_sim.add_source(line_source)"
   ]
  },
  {
   "attachments": {},
   "cell_type": "markdown",
   "metadata": {},
   "source": [
    "### Set geometry"
   ]
  },
  {
   "cell_type": "code",
   "execution_count": 6,
   "metadata": {},
   "outputs": [],
   "source": [
    "a = 1000e-9\n",
    "r = 360e-9\n",
    "w = 1200e-9\n",
    "d = 1400e-9"
   ]
  },
  {
   "cell_type": "code",
   "execution_count": 7,
   "metadata": {},
   "outputs": [
    {
     "name": "stdout",
     "output_type": "stream",
     "text": [
      "w_nx 24.0\n",
      "a_nx 20.0\n",
      "r_nx 7.2\n",
      "d_nx 28.0\n"
     ]
    }
   ],
   "source": [
    "print('w_nx',w/tm_sim.dx)\n",
    "print('a_nx',a/tm_sim.dx)\n",
    "print('r_nx',r/tm_sim.dx)\n",
    "print('d_nx',d/tm_sim.dx)"
   ]
  },
  {
   "cell_type": "code",
   "execution_count": 8,
   "metadata": {},
   "outputs": [],
   "source": [
    "centers_x = [46,66,86,114,134,154]"
   ]
  },
  {
   "cell_type": "code",
   "execution_count": 9,
   "metadata": {},
   "outputs": [
    {
     "name": "stderr",
     "output_type": "stream",
     "text": [
      "c:\\Users\\mazzo\\anaconda3\\envs\\fdtd\\lib\\site-packages\\torch\\functional.py:504: UserWarning: torch.meshgrid: in an upcoming release, it will be required to pass the indexing argument. (Triggered internally at C:\\cb\\pytorch_1000000000000\\work\\aten\\src\\ATen\\native\\TensorShape.cpp:3484.)\n",
      "  return _VF.meshgrid(tensors, **kwargs)  # type: ignore[attr-defined]\n"
     ]
    }
   ],
   "source": [
    "rectangle = Rectangle(x1=0, y1=37.5, x2=tm_sim.nx, y2=62.5,epsr=13, sigma=0)\n",
    "tm_sim.add_geometry(rectangle)\n",
    "tm_sim.update_grid()"
   ]
  },
  {
   "cell_type": "code",
   "execution_count": 10,
   "metadata": {},
   "outputs": [],
   "source": [
    "for center in centers_x:    \n",
    "    tm_sim.add_geometry(Circle(center_x=center, center_y=50, radius=7.2, epsr=1, sigma=0))\n",
    "    tm_sim.update_grid()"
   ]
  },
  {
   "attachments": {},
   "cell_type": "markdown",
   "metadata": {},
   "source": [
    "### Print simulation info"
   ]
  },
  {
   "cell_type": "code",
   "execution_count": 11,
   "metadata": {},
   "outputs": [
    {
     "name": "stdout",
     "output_type": "stream",
     "text": [
      "Simulation setup information:\n",
      "nx: 200\n",
      "ny: 100\n",
      "time_steps: 5000\n",
      "time: 0.0\n",
      "dx: 5e-08\n",
      "dy: 5e-08\n",
      "dt: 1.6678204759907602e-16\n",
      "use_pml: True\n",
      "pml_thickness: 20\n",
      "use_tfsf: False\n",
      "polarization: TE\n",
      "function: sinusoidal\n",
      "frequency: 150000000000000.0\n",
      "source_type: line_source\n",
      "line x: 20\n",
      "line y1: 40\n",
      "line y2: 60\n",
      "c: 299792458\n",
      "epsilon_0: 8.85418782e-12\n",
      "mu_0: 1.25663706e-06\n",
      "geometries: [<src.geometries.rectangle.Rectangle object at 0x0000028B72A1D7F0>, <src.geometries.circle.Circle object at 0x0000028B72A1D6D0>, <src.geometries.circle.Circle object at 0x0000028B67429BB0>, <src.geometries.circle.Circle object at 0x0000028B6744BE20>, <src.geometries.circle.Circle object at 0x0000028B72A1D760>, <src.geometries.circle.Circle object at 0x0000028B72A1D430>, <src.geometries.circle.Circle object at 0x0000028B72A1DC40>]\n",
      "sources: [<src.sources.line_source.LineSource object at 0x0000028B72A1DA00>]\n",
      "detectors: [<src.detectors.point_detector.PointDetector object at 0x0000028B6744BB20>]\n"
     ]
    }
   ],
   "source": [
    "print_setup_info(tm_sim)"
   ]
  },
  {
   "attachments": {},
   "cell_type": "markdown",
   "metadata": {},
   "source": [
    "### Show material distribution"
   ]
  },
  {
   "cell_type": "code",
   "execution_count": 12,
   "metadata": {},
   "outputs": [
    {
     "data": {
      "image/png": "[encoded data removed]",
      "text/plain": [
       "<Figure size 640x480 with 2 Axes>"
      ]
     },
     "metadata": {},
     "output_type": "display_data"
    }
   ],
   "source": [
    "# Visualize permittivity distribution\n",
    "from matplotlib import pyplot as plt\n",
    "import numpy as np\n",
    "plt.imshow(np.transpose(tm_sim.gax), cmap='binary')\n",
    "plt.title('Geometry distribution')\n",
    "plt.xlabel('x')\n",
    "plt.ylabel('y')\n",
    "plt.colorbar(cmap='binary')\n",
    "plt.show()"
   ]
  },
  {
   "attachments": {},
   "cell_type": "markdown",
   "metadata": {},
   "source": [
    "### Simulate"
   ]
  },
  {
   "cell_type": "code",
   "execution_count": 13,
   "metadata": {},
   "outputs": [],
   "source": [
    "for i in range(1, tm_sim.time_steps):\n",
    "    tm_sim.simulation_step(i)\n",
    "    tm_sim.record_detectors(tm_sim.Ex)"
   ]
  },
  {
   "attachments": {},
   "cell_type": "markdown",
   "metadata": {},
   "source": [
    "### Visualize fields"
   ]
  },
  {
   "cell_type": "code",
   "execution_count": 14,
   "metadata": {},
   "outputs": [
    {
     "data": {
      "image/png": "[encoded data removed]",
      "text/plain": [
       "<Figure size 800x600 with 2 Axes>"
      ]
     },
     "metadata": {},
     "output_type": "display_data"
    }
   ],
   "source": [
    "viz2D(tm_sim, tm_sim.Ex)"
   ]
  },
  {
   "attachments": {},
   "cell_type": "markdown",
   "metadata": {},
   "source": [
    "### Visualize detector"
   ]
  },
  {
   "cell_type": "code",
   "execution_count": 15,
   "metadata": {},
   "outputs": [
    {
     "name": "stderr",
     "output_type": "stream",
     "text": [
      "c:\\Users\\mazzo\\anaconda3\\envs\\fdtd\\lib\\site-packages\\numpy\\core\\shape_base.py:65: FutureWarning: The input object of type 'Tensor' is an array-like implementing one of the corresponding protocols (`__array__`, `__array_interface__` or `__array_struct__`); but not a sequence (or 0-D). In the future, this object will be coerced as if it was first converted using `np.array(obj)`. To retain the old behaviour, you have to either modify the type 'Tensor', or assign to an empty array created with `np.empty(correct_shape, dtype=object)`.\n",
      "  ary = asanyarray(ary)\n",
      "c:\\Users\\mazzo\\anaconda3\\envs\\fdtd\\lib\\site-packages\\numpy\\core\\shape_base.py:65: VisibleDeprecationWarning: Creating an ndarray from ragged nested sequences (which is a list-or-tuple of lists-or-tuples-or ndarrays with different lengths or shapes) is deprecated. If you meant to do this, you must specify 'dtype=object' when creating the ndarray.\n",
      "  ary = asanyarray(ary)\n"
     ]
    },
    {
     "data": {
      "text/plain": [
       "[<matplotlib.lines.Line2D at 0x28b73f24a90>]"
      ]
     },
     "execution_count": 15,
     "metadata": {},
     "output_type": "execute_result"
    },
    {
     "data": {
      "image/png": "[encoded data removed]",
      "text/plain": [
       "<Figure size 640x480 with 1 Axes>"
      ]
     },
     "metadata": {},
     "output_type": "display_data"
    }
   ],
   "source": [
    "plt.plot(point_detector.recorded_values)"
   ]
  },
  {
   "cell_type": "code",
   "execution_count": 10,
   "metadata": {},
   "outputs": [
    {
     "name": "stdout",
     "output_type": "stream",
     "text": [
      "Requirement already satisfied: vtk in c:\\users\\mazzo\\anaconda3\\envs\\fdtd\\lib\\site-packages (9.2.6)\n",
      "Requirement already satisfied: matplotlib>=2.0.0 in c:\\users\\mazzo\\anaconda3\\envs\\fdtd\\lib\\site-packages (from vtk) (3.7.1)\n",
      "Requirement already satisfied: pillow>=6.2.0 in c:\\users\\mazzo\\anaconda3\\envs\\fdtd\\lib\\site-packages (from matplotlib>=2.0.0->vtk) (9.4.0)\n",
      "Requirement already satisfied: fonttools>=4.22.0 in c:\\users\\mazzo\\anaconda3\\envs\\fdtd\\lib\\site-packages (from matplotlib>=2.0.0->vtk) (4.39.2)\n",
      "Requirement already satisfied: packaging>=20.0 in c:\\users\\mazzo\\anaconda3\\envs\\fdtd\\lib\\site-packages (from matplotlib>=2.0.0->vtk) (23.0)\n",
      "Requirement already satisfied: python-dateutil>=2.7 in c:\\users\\mazzo\\anaconda3\\envs\\fdtd\\lib\\site-packages (from matplotlib>=2.0.0->vtk) (2.8.2)\n",
      "Requirement already satisfied: pyparsing>=2.3.1 in c:\\users\\mazzo\\anaconda3\\envs\\fdtd\\lib\\site-packages (from matplotlib>=2.0.0->vtk) (3.0.9)\n",
      "Requirement already satisfied: cycler>=0.10 in c:\\users\\mazzo\\anaconda3\\envs\\fdtd\\lib\\site-packages (from matplotlib>=2.0.0->vtk) (0.11.0)\n",
      "Requirement already satisfied: kiwisolver>=1.0.1 in c:\\users\\mazzo\\anaconda3\\envs\\fdtd\\lib\\site-packages (from matplotlib>=2.0.0->vtk) (1.4.4)\n",
      "Requirement already satisfied: contourpy>=1.0.1 in c:\\users\\mazzo\\anaconda3\\envs\\fdtd\\lib\\site-packages (from matplotlib>=2.0.0->vtk) (1.0.7)\n",
      "Requirement already satisfied: numpy>=1.20 in c:\\users\\mazzo\\anaconda3\\envs\\fdtd\\lib\\site-packages (from matplotlib>=2.0.0->vtk) (1.22.3)\n",
      "Requirement already satisfied: importlib-resources>=3.2.0 in c:\\users\\mazzo\\anaconda3\\envs\\fdtd\\lib\\site-packages (from matplotlib>=2.0.0->vtk) (5.12.0)\n",
      "Requirement already satisfied: zipp>=3.1.0 in c:\\users\\mazzo\\anaconda3\\envs\\fdtd\\lib\\site-packages (from importlib-resources>=3.2.0->matplotlib>=2.0.0->vtk) (3.15.0)\n",
      "Requirement already satisfied: six>=1.5 in c:\\users\\mazzo\\anaconda3\\envs\\fdtd\\lib\\site-packages (from python-dateutil>=2.7->matplotlib>=2.0.0->vtk) (1.16.0)\n"
     ]
    }
   ],
   "source": [
    "!pip install vtk"
   ]
  },
  {
   "cell_type": "code",
   "execution_count": 67,
   "metadata": {},
   "outputs": [],
   "source": [
    "import numpy as np\n",
    "import vtk\n",
    "from vtk.util import numpy_support\n",
    "\n",
    "tm_sim.nx, tm_sim.ny = tm_sim.Dz.shape\n",
    "\n",
    "# Convert the numpy arrays to vtkImageData\n",
    "energy_data = numpy_support.numpy_to_vtk(tm_sim.Dz.ravel(), deep=True, array_type=vtk.VTK_FLOAT)\n",
    "geometry_data = numpy_support.numpy_to_vtk(tm_sim.gaz.ravel(), deep=True, array_type=vtk.VTK_UNSIGNED_CHAR)\n",
    "\n",
    "energy_image = vtk.vtkImageData()\n",
    "energy_image.SetDimensions(tm_sim.nx, tm_sim.ny, 1)\n",
    "energy_image.GetPointData().SetScalars(energy_data)\n",
    "\n",
    "# geometry_image = vtk.vtkImageData()\n",
    "# geometry_image.SetDimensions(tm_sim.nx, tm_sim.ny, 1)\n",
    "# geometry_image.GetPointData().SetScalars(geometry_data)\n",
    "\n",
    "# Create actors for energy and geometry data\n",
    "energy_mapper = vtk.vtkDataSetMapper()\n",
    "energy_mapper.SetInputData(energy_image)\n",
    "energy_actor = vtk.vtkActor()\n",
    "energy_actor.SetMapper(energy_mapper)\n",
    "\n",
    "# geometry_mapper = vtk.vtkDataSetMapper()\n",
    "# geometry_mapper.SetInputData(geometry_image)\n",
    "# geometry_actor = vtk.vtkActor()\n",
    "# geometry_actor.SetMapper(geometry_mapper)\n",
    "\n",
    "# Set up the renderer and render window\n",
    "renderer = vtk.vtkRenderer()\n",
    "renderer.AddActor(energy_actor)\n",
    "# renderer.AddActor(geometry_actor)\n",
    "renderer.SetBackground(0.2, 0.2, 0.2)\n",
    "\n",
    "render_window = vtk.vtkRenderWindow()\n",
    "render_window.AddRenderer(renderer)\n",
    "render_window.SetSize(800, 800)\n",
    "\n",
    "# Set up the interactor and start the visualization\n",
    "interactor = vtk.vtkRenderWindowInteractor()\n",
    "interactor.SetRenderWindow(render_window)\n",
    "interactor.Initialize()\n",
    "interactor.Start()"
   ]
  }
 ],
 "metadata": {
  "kernelspec": {
   "display_name": "fdtd",
   "language": "python",
   "name": "python3"
  },
  "language_info": {
   "codemirror_mode": {
    "name": "ipython",
    "version": 3
   },
   "file_extension": ".py",
   "mimetype": "text/x-python",
   "name": "python",
   "nbconvert_exporter": "python",
   "pygments_lexer": "ipython3",
   "version": "3.8.16"
  },
  "orig_nbformat": 4
 },
 "nbformat": 4,
 "nbformat_minor": 2
}
